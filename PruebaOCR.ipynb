{
  "nbformat": 4,
  "nbformat_minor": 0,
  "metadata": {
    "colab": {
      "provenance": []
    },
    "kernelspec": {
      "name": "python3",
      "display_name": "Python 3"
    },
    "language_info": {
      "name": "python"
    }
  },
  "cells": [
    {
      "cell_type": "code",
      "source": [
        "pip install requests"
      ],
      "metadata": {
        "colab": {
          "base_uri": "https://localhost:8080/"
        },
        "id": "wCPBStnyw7Mf",
        "outputId": "490e1fb6-d90e-436f-af2f-382828fb1158"
      },
      "execution_count": 29,
      "outputs": [
        {
          "output_type": "stream",
          "name": "stdout",
          "text": [
            "Requirement already satisfied: requests in /usr/local/lib/python3.10/dist-packages (2.27.1)\n",
            "Requirement already satisfied: urllib3<1.27,>=1.21.1 in /usr/local/lib/python3.10/dist-packages (from requests) (1.26.16)\n",
            "Requirement already satisfied: certifi>=2017.4.17 in /usr/local/lib/python3.10/dist-packages (from requests) (2023.5.7)\n",
            "Requirement already satisfied: charset-normalizer~=2.0.0 in /usr/local/lib/python3.10/dist-packages (from requests) (2.0.12)\n",
            "Requirement already satisfied: idna<4,>=2.5 in /usr/local/lib/python3.10/dist-packages (from requests) (3.4)\n"
          ]
        }
      ]
    },
    {
      "cell_type": "code",
      "execution_count": 30,
      "metadata": {
        "colab": {
          "base_uri": "https://localhost:8080/"
        },
        "id": "h874zINkwQTc",
        "outputId": "f9d15629-25d8-4e83-bcaf-150d0640cd06"
      },
      "outputs": [
        {
          "output_type": "stream",
          "name": "stdout",
          "text": [
            "Texto extraído: Hola Xataketos, esta es mi letra\n",
            "esctita amanoy st, soy consctente de\n",
            "que tengo que hacet muchos\n",
            "cuadernillos Rubio para mejorarla,\n",
            "Peto bueno, uno hace lo que puede xD\n",
            "\f\n"
          ]
        }
      ],
      "source": [
        "import requests\n",
        "from PIL import Image\n",
        "import io\n",
        "\n",
        "# Definir la URL del servicio Flask\n",
        "url = 'http://7c97-34-85-149-35.ngrok-free.app/ocr'\n",
        "\n",
        "# Cargar la imagen desde un archivo\n",
        "image_path = 'prueba.jpg'  # Reemplaza con la ruta correcta de tu imagen\n",
        "image_file = open(image_path, 'rb')\n",
        "\n",
        "# Crear los datos para enviar en la solicitud\n",
        "files = {'image': image_file}\n",
        "\n",
        "# Realizar la solicitud POST\n",
        "response = requests.post(url, files=files)\n",
        "\n",
        "# Verificar la respuesta\n",
        "if response.status_code == 200:\n",
        "    # Imprimir el texto extraído\n",
        "    data = response.json()\n",
        "    print('Texto extraído:', data['text'])\n",
        "else:\n",
        "    print('Error en la solicitud:', response.text)"
      ]
    }
  ]
}